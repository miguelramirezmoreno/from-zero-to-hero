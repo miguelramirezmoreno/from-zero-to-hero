{
 "cells": [
  {
   "cell_type": "code",
   "execution_count": 2,
   "id": "434bc35a",
   "metadata": {},
   "outputs": [],
   "source": [
    "#read names.txt and generate a string with all the names. Separating the names (splitlines)\n",
    "words= open('names.txt', 'r').read().splitlines()"
   ]
  },
  {
   "cell_type": "code",
   "execution_count": 8,
   "id": "a066f1dd",
   "metadata": {},
   "outputs": [
    {
     "name": "stdout",
     "output_type": "stream",
     "text": [
      "['emma', 'olivia', 'ava', 'isabella', 'sophia', 'charlotte', 'mia', 'amelia']\n"
     ]
    },
    {
     "data": {
      "text/plain": [
       "['emma', 'olivia', 'ava', 'isabella', 'sophia', 'charlotte', 'mia', 'amelia']"
      ]
     },
     "execution_count": 8,
     "metadata": {},
     "output_type": "execute_result"
    }
   ],
   "source": [
    "#loading first 8 names, notice that \"print\" is not necessary.\n",
    "print(words[:8])\n",
    "words[:8]"
   ]
  },
  {
   "cell_type": "code",
   "execution_count": 15,
   "id": "66cad50e",
   "metadata": {},
   "outputs": [
    {
     "name": "stdout",
     "output_type": "stream",
     "text": [
      "32033\n",
      "2\n",
      "15\n",
      "9\n"
     ]
    }
   ],
   "source": [
    "#analyze dataset: total number of names, shortest and longest lengths\n",
    "\n",
    "print(len(words))\n",
    "print(min(len(w) for w in words))\n",
    "print(max(len(w) for w in words))\n",
    "print(max(len(w) for w in words[:8]))"
   ]
  },
  {
   "cell_type": "code",
   "execution_count": 18,
   "id": "06bd0885",
   "metadata": {},
   "outputs": [
    {
     "name": "stdout",
     "output_type": "stream",
     "text": [
      "e e\n",
      "m m\n",
      "m m\n",
      "a a\n",
      "o o\n",
      "l l\n",
      "i i\n",
      "v v\n",
      "i i\n",
      "a a\n",
      "a a\n",
      "v v\n",
      "a a\n"
     ]
    }
   ],
   "source": [
    "#We are building a bigram, predicting pairs of characters. Which letter would follow a given one?\n",
    "#this code prints a character and the next one, character by character, for the first three names\n",
    "for w in words[:3]:\n",
    "    for ch1, ch2 in zip(w, w[1:]):\n",
    "        print(ch1, ch2)"
   ]
  },
  {
   "cell_type": "code",
   "execution_count": null,
   "id": "16c42ad7",
   "metadata": {},
   "outputs": [],
   "source": []
  }
 ],
 "metadata": {
  "kernelspec": {
   "display_name": "Python 3 (ipykernel)",
   "language": "python",
   "name": "python3"
  },
  "language_info": {
   "codemirror_mode": {
    "name": "ipython",
    "version": 3
   },
   "file_extension": ".py",
   "mimetype": "text/x-python",
   "name": "python",
   "nbconvert_exporter": "python",
   "pygments_lexer": "ipython3",
   "version": "3.8.16"
  }
 },
 "nbformat": 4,
 "nbformat_minor": 5
}
